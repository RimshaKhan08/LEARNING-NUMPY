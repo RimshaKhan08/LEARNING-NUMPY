{
 "cells": [
  {
   "cell_type": "code",
   "execution_count": 1,
   "id": "bf75e8c4",
   "metadata": {},
   "outputs": [],
   "source": [
    "import numpy as np"
   ]
  },
  {
   "cell_type": "markdown",
   "id": "540e7a7c",
   "metadata": {},
   "source": [
    "**NP.ARRAY()**"
   ]
  },
  {
   "cell_type": "code",
   "execution_count": 2,
   "id": "8ee498d3",
   "metadata": {},
   "outputs": [
    {
     "data": {
      "text/plain": [
       "array([ 2,  4,  6,  8, 10])"
      ]
     },
     "execution_count": 2,
     "metadata": {},
     "output_type": "execute_result"
    }
   ],
   "source": [
    "arr1 = np.array([2,4,6,8,10])\n",
    "arr1"
   ]
  },
  {
   "cell_type": "markdown",
   "id": "72c8354c",
   "metadata": {},
   "source": [
    "**NP.ZEROS()**"
   ]
  },
  {
   "cell_type": "code",
   "execution_count": 8,
   "id": "ae0d768b",
   "metadata": {},
   "outputs": [
    {
     "data": {
      "text/plain": [
       "array([[0., 0.],\n",
       "       [0., 0.]])"
      ]
     },
     "execution_count": 8,
     "metadata": {},
     "output_type": "execute_result"
    }
   ],
   "source": [
    "arr2 = np.zeros((2,2))\n",
    "arr2"
   ]
  },
  {
   "cell_type": "markdown",
   "id": "7a3a8c59",
   "metadata": {},
   "source": [
    "**NP.ONES()**"
   ]
  },
  {
   "cell_type": "code",
   "execution_count": 11,
   "id": "02437cbe",
   "metadata": {},
   "outputs": [
    {
     "data": {
      "text/plain": [
       "array([[1., 1., 1., 1., 1.],\n",
       "       [1., 1., 1., 1., 1.],\n",
       "       [1., 1., 1., 1., 1.],\n",
       "       [1., 1., 1., 1., 1.],\n",
       "       [1., 1., 1., 1., 1.]])"
      ]
     },
     "execution_count": 11,
     "metadata": {},
     "output_type": "execute_result"
    }
   ],
   "source": [
    "arr3 = np.ones((5,5))\n",
    "arr3"
   ]
  },
  {
   "cell_type": "markdown",
   "id": "9d1f99c3",
   "metadata": {},
   "source": [
    "**NP.ARANGE()**"
   ]
  },
  {
   "cell_type": "code",
   "execution_count": 12,
   "id": "b92d006a",
   "metadata": {},
   "outputs": [
    {
     "data": {
      "text/plain": [
       "array([0, 2, 4, 6, 8])"
      ]
     },
     "execution_count": 12,
     "metadata": {},
     "output_type": "execute_result"
    }
   ],
   "source": [
    "arr4 = np.arange(0, 10, 2) \n",
    "arr4"
   ]
  },
  {
   "cell_type": "markdown",
   "id": "c2658b9c",
   "metadata": {},
   "source": [
    "**NP.LINSPACE**\n",
    "\n",
    "np.linspace(start, stop, num) → returns evenly spaced numbers over a specified range.\n",
    "\n",
    "start = 0 → starting value.\n",
    "\n",
    "stop = 1 → ending value (inclusive).\n",
    "\n",
    "num = 5 → how many numbers you want between start and stop."
   ]
  },
  {
   "cell_type": "code",
   "execution_count": null,
   "id": "1d2650fd",
   "metadata": {},
   "outputs": [
    {
     "data": {
      "text/plain": [
       "array([0.  , 0.25, 0.5 , 0.75, 1.  ])"
      ]
     },
     "execution_count": 13,
     "metadata": {},
     "output_type": "execute_result"
    }
   ],
   "source": [
    "arr5 = np.linspace(0, 1, 5)  \n",
    "arr5"
   ]
  }
 ],
 "metadata": {
  "kernelspec": {
   "display_name": "Python 3",
   "language": "python",
   "name": "python3"
  },
  "language_info": {
   "codemirror_mode": {
    "name": "ipython",
    "version": 3
   },
   "file_extension": ".py",
   "mimetype": "text/x-python",
   "name": "python",
   "nbconvert_exporter": "python",
   "pygments_lexer": "ipython3",
   "version": "3.8.8"
  }
 },
 "nbformat": 4,
 "nbformat_minor": 5
}
