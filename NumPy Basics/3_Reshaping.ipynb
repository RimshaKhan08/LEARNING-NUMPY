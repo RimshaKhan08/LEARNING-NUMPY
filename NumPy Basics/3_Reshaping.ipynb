{
 "cells": [
  {
   "cell_type": "code",
   "execution_count": 2,
   "id": "35fc2fc2",
   "metadata": {},
   "outputs": [],
   "source": [
    "import numpy as np"
   ]
  },
  {
   "cell_type": "markdown",
   "id": "8a7ae11f",
   "metadata": {},
   "source": [
    "**.reshape()**\n",
    "\n",
    "Purpose: Change the shape (dimensions) of an array without changing its data.\n",
    "\n",
    "Key Points:\n",
    "\n",
    "Returns a new view of the array when possible (shares the same data in memory).\n",
    "\n",
    "The total number of elements must stay the same.\n",
    "\n",
    "You can use -1 for one dimension, and NumPy will figure it out."
   ]
  },
  {
   "cell_type": "code",
   "execution_count": 3,
   "id": "2c22c088",
   "metadata": {},
   "outputs": [
    {
     "data": {
      "text/plain": [
       "array([[ 1,  2,  3,  4,  5],\n",
       "       [ 6,  7,  8,  9, 10]])"
      ]
     },
     "execution_count": 3,
     "metadata": {},
     "output_type": "execute_result"
    }
   ],
   "source": [
    "arr1 = np.arange(6) \n",
    "reshaped_arr1 = arr1.reshape(2,3)\n",
    "reshaped_arr1\n",
    "\n",
    "\n",
    "arr2 = np.array([1,2,3,4,5,6,7,8,9,10])\n",
    "reshaped_arr2 = arr2.reshape(2,5)\n",
    "reshaped_arr2"
   ]
  },
  {
   "cell_type": "code",
   "execution_count": null,
   "id": "4621f710",
   "metadata": {},
   "outputs": [],
   "source": []
  },
  {
   "cell_type": "markdown",
   "id": "502449fa",
   "metadata": {},
   "source": [
    "**.ravel()**\n",
    "\n",
    "Purpose: Convert a multi-dimensional array into a 1D view (flatten it).\n",
    "\n",
    "Key Points:\n",
    "\n",
    "Returns a view of the original array (changes in one affect the other, if possible).\n",
    "\n",
    "More memory-efficient than .flatten()."
   ]
  },
  {
   "cell_type": "code",
   "execution_count": null,
   "id": "e32c7bfa",
   "metadata": {},
   "outputs": [
    {
     "name": "stdout",
     "output_type": "stream",
     "text": [
      "[1 2 3 4 5 6]\n",
      "[[99  2  3]\n",
      " [ 4  5  6]]\n"
     ]
    }
   ],
   "source": [
    "arr3 = np.array([[1,2,3],[4,5,6]])\n",
    "r = arr3.ravel()\n",
    "print(r)  \n",
    "\n",
    "\n",
    "\n",
    "r[0] = 99\n",
    "print(arr3)    \n"
   ]
  },
  {
   "cell_type": "markdown",
   "id": "a10f5a25",
   "metadata": {},
   "source": [
    "**flatten()**\n",
    "\n",
    "Purpose: Convert a multi-dimensional array into a 1D copy.\n",
    "\n",
    "Key Points:\n",
    "\n",
    "Always returns a copy (changes in one do not affect the other).\n",
    "\n",
    "Uses more memory than .ravel()."
   ]
  },
  {
   "cell_type": "code",
   "execution_count": null,
   "id": "e5f69189",
   "metadata": {},
   "outputs": [
    {
     "name": "stdout",
     "output_type": "stream",
     "text": [
      "[1 2 3 4 5 6]\n",
      "[[1 2 3]\n",
      " [4 5 6]]\n"
     ]
    }
   ],
   "source": [
    "arr4 = np.array([[1,2,3],[4,5,6]])\n",
    "f = arr4.flatten()\n",
    "print(f)      \n",
    "\n",
    "f[0] = 99\n",
    "print(arr4)  "
   ]
  }
 ],
 "metadata": {
  "kernelspec": {
   "display_name": "Python 3",
   "language": "python",
   "name": "python3"
  },
  "language_info": {
   "codemirror_mode": {
    "name": "ipython",
    "version": 3
   },
   "file_extension": ".py",
   "mimetype": "text/x-python",
   "name": "python",
   "nbconvert_exporter": "python",
   "pygments_lexer": "ipython3",
   "version": "3.8.8"
  }
 },
 "nbformat": 4,
 "nbformat_minor": 5
}
