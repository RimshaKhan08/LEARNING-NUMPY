{
 "cells": [
  {
   "cell_type": "code",
   "execution_count": 1,
   "id": "7eafdf67",
   "metadata": {},
   "outputs": [],
   "source": [
    "import numpy as np"
   ]
  },
  {
   "cell_type": "markdown",
   "id": "6ba41277",
   "metadata": {},
   "source": [
    "### 1D Array Indexing & Slicing\n",
    "\n",
    "**Indexing:**\n",
    "\n",
    "Works like Python lists — indexes start from 0.\n",
    "\n",
    "**Slicing:**\n",
    "\n",
    "Format → arr[start:end:step]\n",
    "\n",
    "start → index to begin (default 0)\n",
    "\n",
    "end → index to stop (exclusive)\n",
    "\n",
    "step → how many to skip (default 1)"
   ]
  },
  {
   "cell_type": "code",
   "execution_count": 10,
   "id": "fa74d46b",
   "metadata": {},
   "outputs": [
    {
     "name": "stdout",
     "output_type": "stream",
     "text": [
      "First element: 1\n",
      "Last element: 9\n",
      "Slicing: \n",
      "[1 2 3 4 5]\n",
      "[2 4 6 8]\n",
      "[1 2 3]\n",
      "[1 3 5 7 9]\n"
     ]
    }
   ],
   "source": [
    "arr1 = np.array([1,2,3,4,5,6,7,8,9])\n",
    "arr1\n",
    "\n",
    "print(f\"First element: {arr1[0]}\")\n",
    "print(f\"Last element: {arr1[-1]}\")\n",
    "\n",
    "\n",
    "\n",
    "print(\"Slicing: \")\n",
    "\n",
    "print(arr1[0:5])\n",
    "print(arr1[1:8:2])\n",
    "print(arr1[:3])  \n",
    "print(arr1[::2])"
   ]
  },
  {
   "cell_type": "markdown",
   "id": "90b178a4",
   "metadata": {},
   "source": [
    "### 2D Array Indexing & Slicing\n",
    "\n",
    "**Indexing:**\n",
    "\n",
    "A 2D array is like a matrix → arr[row, column]"
   ]
  },
  {
   "cell_type": "code",
   "execution_count": 16,
   "id": "8e374990",
   "metadata": {},
   "outputs": [
    {
     "data": {
      "text/plain": [
       "3"
      ]
     },
     "execution_count": 16,
     "metadata": {},
     "output_type": "execute_result"
    }
   ],
   "source": [
    "arr2 = np.array([[1, 2, 3],\n",
    "                  [4, 5, 6],\n",
    "                  [7, 8, 9]])\n",
    "\n",
    "arr2\n",
    "\n",
    "arr2[1,2]\n",
    "arr2[0,-1]"
   ]
  },
  {
   "cell_type": "code",
   "execution_count": null,
   "id": "8b7ff2a7",
   "metadata": {},
   "outputs": [
    {
     "name": "stdout",
     "output_type": "stream",
     "text": [
      "[1 2 3]\n",
      "[2 5 8]\n",
      "[[2 3]\n",
      " [5 6]]\n"
     ]
    }
   ],
   "source": [
    "print(arr2[0, :])    \n",
    "print(arr2[:, 1])    \n",
    "print(arr2[0:2, 1:3]) "
   ]
  },
  {
   "cell_type": "markdown",
   "id": "d5a821fb",
   "metadata": {},
   "source": [
    "### Multidimensional Slicing\n",
    "\n",
    "Works the same way but for 3D arrays or more."
   ]
  },
  {
   "cell_type": "code",
   "execution_count": 21,
   "id": "b9206fe8",
   "metadata": {},
   "outputs": [
    {
     "data": {
      "text/plain": [
       "array([[[ 0,  1,  2,  3],\n",
       "        [ 4,  5,  6,  7],\n",
       "        [ 8,  9, 10, 11]],\n",
       "\n",
       "       [[12, 13, 14, 15],\n",
       "        [16, 17, 18, 19],\n",
       "        [20, 21, 22, 23]]])"
      ]
     },
     "execution_count": 21,
     "metadata": {},
     "output_type": "execute_result"
    }
   ],
   "source": [
    "arr3d = np.arange(24).reshape(2, 3, 4)\n",
    "arr3d\n",
    "\n",
    " "
   ]
  },
  {
   "cell_type": "code",
   "execution_count": 22,
   "id": "f05fd864",
   "metadata": {},
   "outputs": [
    {
     "name": "stdout",
     "output_type": "stream",
     "text": [
      "6\n",
      "[[ 4  5  6  7]\n",
      " [16 17 18 19]]\n"
     ]
    }
   ],
   "source": [
    "print(arr3d[0, 1, 2])    # Element in block 0, row 1, col 2\n",
    "print(arr3d[:, 1, :])"
   ]
  },
  {
   "cell_type": "markdown",
   "id": "4cba3a9f",
   "metadata": {},
   "source": [
    "### Fancy Indexing\n",
    "\n",
    "Fancy indexing = selecting elements using lists/arrays of indices."
   ]
  },
  {
   "cell_type": "code",
   "execution_count": 25,
   "id": "cf7133e2",
   "metadata": {},
   "outputs": [
    {
     "name": "stdout",
     "output_type": "stream",
     "text": [
      "[10 40 50]\n",
      "[2 5]\n"
     ]
    }
   ],
   "source": [
    "arr = np.array([10, 20, 30, 40, 50])\n",
    "print(arr[[0, 3, 4]])     # [10 40 50]\n",
    "\n",
    "arr2d = np.array([[1, 2],\n",
    "                  [3, 4],\n",
    "                  [5, 6]])\n",
    "print(arr2d[[0, 2], [1, 0]])\n",
    "\n",
    "#It takes row 0, column 1 → that’s the value 2\n",
    "\n",
    "#It takes row 2, column 0 → that’s the value 5"
   ]
  },
  {
   "cell_type": "markdown",
   "id": "4fa85ec0",
   "metadata": {},
   "source": [
    "### Boolean Indexing\n",
    "Boolean indexing = filtering with conditions"
   ]
  },
  {
   "cell_type": "code",
   "execution_count": 32,
   "id": "ad8b3c01",
   "metadata": {},
   "outputs": [
    {
     "name": "stdout",
     "output_type": "stream",
     "text": [
      "[False False False  True  True  True False False False False]\n",
      "[20 25 30]\n",
      "[10 20 30 40 50]\n"
     ]
    }
   ],
   "source": [
    "arr3 = np.array([5,10,15,20,25,30,35,40,45,50])\n",
    "\n",
    "mask = (arr3 > 15) & (arr3 < 35)\n",
    "print(mask)\n",
    "\n",
    "print(arr3[mask])\n",
    "\n",
    "\n",
    "print(arr3[arr3 % 2==0])"
   ]
  }
 ],
 "metadata": {
  "kernelspec": {
   "display_name": "Python 3",
   "language": "python",
   "name": "python3"
  },
  "language_info": {
   "codemirror_mode": {
    "name": "ipython",
    "version": 3
   },
   "file_extension": ".py",
   "mimetype": "text/x-python",
   "name": "python",
   "nbconvert_exporter": "python",
   "pygments_lexer": "ipython3",
   "version": "3.8.8"
  }
 },
 "nbformat": 4,
 "nbformat_minor": 5
}
