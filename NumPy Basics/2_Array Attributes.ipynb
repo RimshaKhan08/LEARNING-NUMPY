{
 "cells": [
  {
   "cell_type": "code",
   "execution_count": 19,
   "id": "2f3d51d6",
   "metadata": {},
   "outputs": [],
   "source": [
    "import numpy as np"
   ]
  },
  {
   "cell_type": "code",
   "execution_count": 20,
   "id": "528364b2",
   "metadata": {},
   "outputs": [
    {
     "data": {
      "text/plain": [
       "array([[0., 0., 0., 0., 0.],\n",
       "       [0., 0., 0., 0., 0.],\n",
       "       [0., 0., 0., 0., 0.],\n",
       "       [0., 0., 0., 0., 0.],\n",
       "       [0., 0., 0., 0., 0.]])"
      ]
     },
     "execution_count": 20,
     "metadata": {},
     "output_type": "execute_result"
    }
   ],
   "source": [
    "arr1 = np.array([1,2,3,4,5,6,7])\n",
    "arr1\n",
    "\n",
    "arr2 = np.array([[5,10,15], [20,25,30]])\n",
    "arr2\n",
    "\n",
    "arr3 = np.zeros([5,5])\n",
    "arr3"
   ]
  },
  {
   "cell_type": "markdown",
   "id": "eaf380ec",
   "metadata": {},
   "source": [
    "**shape**\n",
    "\n",
    "Returns a tuple showing the dimensions of the array."
   ]
  },
  {
   "cell_type": "code",
   "execution_count": 21,
   "id": "9547dcaa",
   "metadata": {},
   "outputs": [
    {
     "name": "stdout",
     "output_type": "stream",
     "text": [
      "(7,)\n",
      "(2, 3)\n",
      "(5, 5)\n"
     ]
    }
   ],
   "source": [
    "print(arr1.shape)\n",
    "print(arr2.shape)\n",
    "print(arr3.shape)"
   ]
  },
  {
   "cell_type": "markdown",
   "id": "157c5bb0",
   "metadata": {},
   "source": [
    "**ndim**\n",
    "\n",
    "Returns the number of dimensions (axes) of the array."
   ]
  },
  {
   "cell_type": "code",
   "execution_count": null,
   "id": "97a28b3b",
   "metadata": {},
   "outputs": [
    {
     "name": "stdout",
     "output_type": "stream",
     "text": [
      "1\n",
      "2\n",
      "2\n"
     ]
    }
   ],
   "source": [
    "print(arr1.ndim)\n",
    "print(arr2.ndim)\n",
    "print(arr3.ndim)"
   ]
  },
  {
   "cell_type": "markdown",
   "id": "d5be5945",
   "metadata": {},
   "source": [
    "**size**\n",
    "\n",
    "Returns the total number of elements in the array."
   ]
  },
  {
   "cell_type": "code",
   "execution_count": 23,
   "id": "8159de21",
   "metadata": {},
   "outputs": [
    {
     "name": "stdout",
     "output_type": "stream",
     "text": [
      "7\n",
      "6\n",
      "25\n"
     ]
    }
   ],
   "source": [
    "print(arr1.size)\n",
    "print(arr2.size)\n",
    "print(arr3.size)"
   ]
  },
  {
   "cell_type": "markdown",
   "id": "f549d85e",
   "metadata": {},
   "source": [
    "**dtype**\n",
    "\n",
    "Shows the data type of the array’s elements.\n"
   ]
  },
  {
   "cell_type": "code",
   "execution_count": 27,
   "id": "3f2eef80",
   "metadata": {},
   "outputs": [
    {
     "name": "stdout",
     "output_type": "stream",
     "text": [
      "int32\n",
      "int32\n",
      "float64\n",
      "<U10\n"
     ]
    }
   ],
   "source": [
    "print(arr1.dtype)\n",
    "print(arr2.dtype)\n",
    "print(arr3.dtype)\n",
    "print(arr4.dtype)"
   ]
  }
 ],
 "metadata": {
  "kernelspec": {
   "display_name": "Python 3",
   "language": "python",
   "name": "python3"
  },
  "language_info": {
   "codemirror_mode": {
    "name": "ipython",
    "version": 3
   },
   "file_extension": ".py",
   "mimetype": "text/x-python",
   "name": "python",
   "nbconvert_exporter": "python",
   "pygments_lexer": "ipython3",
   "version": "3.8.8"
  }
 },
 "nbformat": 4,
 "nbformat_minor": 5
}
