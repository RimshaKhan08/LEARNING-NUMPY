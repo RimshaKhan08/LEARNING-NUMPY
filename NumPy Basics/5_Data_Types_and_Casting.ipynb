{
 "cells": [
  {
   "cell_type": "code",
   "execution_count": 1,
   "id": "b80fd8e3",
   "metadata": {},
   "outputs": [],
   "source": [
    "import numpy as np"
   ]
  },
  {
   "cell_type": "code",
   "execution_count": 2,
   "id": "f849232d",
   "metadata": {},
   "outputs": [
    {
     "name": "stdout",
     "output_type": "stream",
     "text": [
      "float64\n",
      "int32\n"
     ]
    }
   ],
   "source": [
    "arr1 = np.array([1, 2, 3], dtype=np.float64)\n",
    "arr2 = np.array([1, 2, 3], dtype=np.int32)\n",
    "print(arr1.dtype)\n",
    "print(arr2.dtype)\n"
   ]
  },
  {
   "cell_type": "markdown",
   "id": "9e11e363",
   "metadata": {},
   "source": [
    "### TYPECASTING: \n",
    "Converting or casting an array from one data type to another"
   ]
  },
  {
   "cell_type": "code",
   "execution_count": 3,
   "id": "554957c4",
   "metadata": {},
   "outputs": [
    {
     "name": "stdout",
     "output_type": "stream",
     "text": [
      "int32\n",
      "[1. 2. 3. 4. 5.]\n"
     ]
    },
    {
     "data": {
      "text/plain": [
       "dtype('float64')"
      ]
     },
     "execution_count": 3,
     "metadata": {},
     "output_type": "execute_result"
    }
   ],
   "source": [
    "arr = np.array([1, 2, 3, 4, 5])\n",
    "print(arr.dtype)\n",
    "\n",
    "float_arr = arr.astype(np.float64)\n",
    "print(float_arr)\n",
    "float_arr.dtype\n"
   ]
  },
  {
   "cell_type": "markdown",
   "id": "51f01863",
   "metadata": {},
   "source": [
    "If I cast some floating-point\n",
    "numbers to be of integer data type, the decimal part will be truncated:\n"
   ]
  },
  {
   "cell_type": "code",
   "execution_count": 4,
   "id": "70b72cb7",
   "metadata": {},
   "outputs": [
    {
     "name": "stdout",
     "output_type": "stream",
     "text": [
      "[ 3.7 -1.2 -2.6  0.5 12.9 10.1]\n"
     ]
    },
    {
     "data": {
      "text/plain": [
       "array([ 3, -1, -2,  0, 12, 10])"
      ]
     },
     "execution_count": 4,
     "metadata": {},
     "output_type": "execute_result"
    }
   ],
   "source": [
    "arr = np.array([3.7, -1.2, -2.6, 0.5, 12.9, 10.1])\n",
    "print(arr)\n",
    "\n",
    "arr.astype(np.int32)\n"
   ]
  },
  {
   "cell_type": "markdown",
   "id": "a6ac9318",
   "metadata": {},
   "source": [
    "If you have an array of strings representing numbers, you can use astype to convert\n",
    "them to numeric form:"
   ]
  },
  {
   "cell_type": "code",
   "execution_count": 5,
   "id": "af632d5b",
   "metadata": {},
   "outputs": [
    {
     "data": {
      "text/plain": [
       "array([ 1.25, -9.6 , 42.  ])"
      ]
     },
     "execution_count": 5,
     "metadata": {},
     "output_type": "execute_result"
    }
   ],
   "source": [
    "numeric_strings = np.array([\"1.25\", \"-9.6\", \"42\"], dtype=np.string_)\n",
    "numeric_strings.astype(float)\n"
   ]
  },
  {
   "cell_type": "markdown",
   "id": "8c3f3aea",
   "metadata": {},
   "source": [
    "You can also use another array’s dtype attribute:\n"
   ]
  },
  {
   "cell_type": "code",
   "execution_count": 6,
   "id": "9dfc951e",
   "metadata": {},
   "outputs": [
    {
     "data": {
      "text/plain": [
       "array([0., 1., 2., 3., 4., 5., 6., 7., 8., 9.])"
      ]
     },
     "execution_count": 6,
     "metadata": {},
     "output_type": "execute_result"
    }
   ],
   "source": [
    "int_array = np.arange(10)\n",
    "calibers = np.array([.22, .270, .357, .380, .44, .50], dtype=np.float64)\n",
    "int_array.astype(calibers.dtype)"
   ]
  }
 ],
 "metadata": {
  "kernelspec": {
   "display_name": "Python 3",
   "language": "python",
   "name": "python3"
  },
  "language_info": {
   "codemirror_mode": {
    "name": "ipython",
    "version": 3
   },
   "file_extension": ".py",
   "mimetype": "text/x-python",
   "name": "python",
   "nbconvert_exporter": "python",
   "pygments_lexer": "ipython3",
   "version": "3.8.8"
  }
 },
 "nbformat": 4,
 "nbformat_minor": 5
}
