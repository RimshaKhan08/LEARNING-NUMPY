{
 "cells": [
  {
   "cell_type": "code",
   "execution_count": 1,
   "id": "6579a264",
   "metadata": {},
   "outputs": [],
   "source": [
    "import numpy as np"
   ]
  },
  {
   "cell_type": "markdown",
   "id": "40f949f4",
   "metadata": {},
   "source": [
    "## What broadcasting is?\n",
    "\n",
    "In NumPy, broadcasting means NumPy automatically “expands” arrays of smaller shape so that arithmetic operations can be done without making explicit copies or writing loops.\n",
    "Think of it as NumPy saying: \"If you and I are not the same size, I’ll stretch myself (virtually) so we match — then we can do math.\""
   ]
  },
  {
   "cell_type": "markdown",
   "id": "edf5787e",
   "metadata": {},
   "source": [
    "### Rules for Combining Arrays of Different Shapes\n",
    "\n",
    "**The broadcasting rules:**\n",
    "\n",
    "Compare shapes from right to left (trailing dimensions first).\n",
    "\n",
    "Dimensions are compatible if:\n",
    "\n",
    "They are equal, or\n",
    "\n",
    "One of them is 1.\n",
    "\n",
    "If they’re incompatible → ValueError."
   ]
  },
  {
   "cell_type": "code",
   "execution_count": 6,
   "id": "e05d9e61",
   "metadata": {},
   "outputs": [
    {
     "data": {
      "text/plain": [
       "array([7, 8])"
      ]
     },
     "execution_count": 6,
     "metadata": {},
     "output_type": "execute_result"
    }
   ],
   "source": [
    "a = np.array([3,4])\n",
    "\n",
    "a.shape\n",
    "\n",
    "b = np.array([4,])\n",
    "b.shape\n",
    "a+b\n",
    "\n",
    "\n",
    "# Shape comparison:\n",
    "# A: (3, 4)\n",
    "# B:    (4) → treated as (1, 4)\n",
    "# Match from right: 4 == 4 ✅, left: 3 vs 1 → compatible"
   ]
  },
  {
   "cell_type": "markdown",
   "id": "a64043fd",
   "metadata": {},
   "source": [
    "Incompatible example where shapes does not match"
   ]
  },
  {
   "cell_type": "code",
   "execution_count": 10,
   "id": "015ecdc2",
   "metadata": {},
   "outputs": [
    {
     "ename": "ValueError",
     "evalue": "operands could not be broadcast together with shapes (2,3) (4,3) ",
     "output_type": "error",
     "traceback": [
      "\u001b[1;31m---------------------------------------------------------------------------\u001b[0m",
      "\u001b[1;31mValueError\u001b[0m                                Traceback (most recent call last)",
      "Cell \u001b[1;32mIn[10], line 6\u001b[0m\n\u001b[0;32m      3\u001b[0m X\n\u001b[0;32m      4\u001b[0m Y\n\u001b[1;32m----> 6\u001b[0m \u001b[43mX\u001b[49m\u001b[38;5;241;43m+\u001b[39;49m\u001b[43mY\u001b[49m\n",
      "\u001b[1;31mValueError\u001b[0m: operands could not be broadcast together with shapes (2,3) (4,3) "
     ]
    }
   ],
   "source": [
    "X = np.ones((2, 3))\n",
    "Y = np.ones((4, 3))\n",
    "X\n",
    "Y\n",
    "\n",
    "X+Y"
   ]
  },
  {
   "cell_type": "markdown",
   "id": "fc62f6a8",
   "metadata": {},
   "source": [
    "## Adding Scalars to Arrays\n",
    "\n",
    "\n",
    "A scalar (like 5) has shape () — NumPy treats it as (1,1,...,1) so it matches any shape."
   ]
  },
  {
   "cell_type": "code",
   "execution_count": 12,
   "id": "aea712cb",
   "metadata": {},
   "outputs": [
    {
     "name": "stdout",
     "output_type": "stream",
     "text": [
      "[11 12 13 14 15]\n"
     ]
    }
   ],
   "source": [
    "a = np.array([1,2,3,4,5])\n",
    "scalr = 10\n",
    "\n",
    "print(a+scalr)"
   ]
  }
 ],
 "metadata": {
  "kernelspec": {
   "display_name": "Python 3",
   "language": "python",
   "name": "python3"
  },
  "language_info": {
   "codemirror_mode": {
    "name": "ipython",
    "version": 3
   },
   "file_extension": ".py",
   "mimetype": "text/x-python",
   "name": "python",
   "nbconvert_exporter": "python",
   "pygments_lexer": "ipython3",
   "version": "3.8.8"
  }
 },
 "nbformat": 4,
 "nbformat_minor": 5
}
