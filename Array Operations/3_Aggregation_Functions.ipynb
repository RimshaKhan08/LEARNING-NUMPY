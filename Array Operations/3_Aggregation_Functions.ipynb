{
 "cells": [
  {
   "cell_type": "code",
   "execution_count": 1,
   "id": "07c985c3",
   "metadata": {},
   "outputs": [],
   "source": [
    "import numpy as np"
   ]
  },
  {
   "cell_type": "markdown",
   "id": "b8c2be55",
   "metadata": {},
   "source": [
    "## Aggregation Functions\n",
    "\n",
    "These combine all values into a single summary statistic.\n",
    "\n",
    "**ML Relevance:**\n",
    "\n",
    "Used for EDA (Exploratory Data Analysis).\n",
    "\n",
    "Mean and std used in data normalization.\n",
    "\n",
    "Variance helps detect feature importance or redundancy.\n"
   ]
  },
  {
   "cell_type": "code",
   "execution_count": 2,
   "id": "931b0c43",
   "metadata": {},
   "outputs": [
    {
     "name": "stdout",
     "output_type": "stream",
     "text": [
      "21\n",
      "3.5\n",
      "3.5\n",
      "1.707825127659933\n",
      "2.9166666666666665\n"
     ]
    }
   ],
   "source": [
    "data = np.array([[1, 2, 3],\n",
    "                 [4, 5, 6]])\n",
    "\n",
    "print(np.sum(data))       \n",
    "print(np.mean(data))      \n",
    "print(np.median(data))  \n",
    "print(np.std(data))      \n",
    "print(np.var(data))\n",
    "\n"
   ]
  },
  {
   "cell_type": "code",
   "execution_count": null,
   "id": "c47c26e9",
   "metadata": {},
   "outputs": [],
   "source": []
  }
 ],
 "metadata": {
  "kernelspec": {
   "display_name": "Python 3",
   "language": "python",
   "name": "python3"
  },
  "language_info": {
   "codemirror_mode": {
    "name": "ipython",
    "version": 3
   },
   "file_extension": ".py",
   "mimetype": "text/x-python",
   "name": "python",
   "nbconvert_exporter": "python",
   "pygments_lexer": "ipython3",
   "version": "3.8.8"
  }
 },
 "nbformat": 4,
 "nbformat_minor": 5
}
