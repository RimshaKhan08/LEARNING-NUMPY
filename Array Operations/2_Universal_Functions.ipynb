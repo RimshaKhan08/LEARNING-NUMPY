{
 "cells": [
  {
   "cell_type": "code",
   "execution_count": 2,
   "id": "854b57df",
   "metadata": {},
   "outputs": [],
   "source": [
    "import numpy as np"
   ]
  },
  {
   "cell_type": "markdown",
   "id": "8c7cd331",
   "metadata": {},
   "source": [
    "## Universal Functions (ufuncs)\n",
    "These are fast, vectorized mathematical functions that operate element-wise."
   ]
  },
  {
   "cell_type": "code",
   "execution_count": 3,
   "id": "ad6beeb7",
   "metadata": {},
   "outputs": [
    {
     "name": "stdout",
     "output_type": "stream",
     "text": [
      "[1.         1.41421356 1.73205081 2.         2.23606798 2.44948974\n",
      " 2.64575131]\n",
      "[   2.71828183    7.3890561    20.08553692   54.59815003  148.4131591\n",
      "  403.42879349 1096.63315843]\n",
      "[0.         0.69314718 1.09861229 1.38629436 1.60943791 1.79175947\n",
      " 1.94591015]\n",
      "[1 2 3]\n"
     ]
    }
   ],
   "source": [
    "a = np.array([1,2,3,4,5,6,7])\n",
    "\n",
    "print(np.sqrt(a))  \n",
    "print(np.exp(a))  \n",
    "print(np.log(a))   \n",
    "print(np.abs([-1, -2, 3]))"
   ]
  }
 ],
 "metadata": {
  "kernelspec": {
   "display_name": "Python 3",
   "language": "python",
   "name": "python3"
  },
  "language_info": {
   "codemirror_mode": {
    "name": "ipython",
    "version": 3
   },
   "file_extension": ".py",
   "mimetype": "text/x-python",
   "name": "python",
   "nbconvert_exporter": "python",
   "pygments_lexer": "ipython3",
   "version": "3.8.8"
  }
 },
 "nbformat": 4,
 "nbformat_minor": 5
}
